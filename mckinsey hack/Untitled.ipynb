{
 "cells": [
  {
   "cell_type": "code",
   "execution_count": 17,
   "metadata": {
    "collapsed": true
   },
   "outputs": [],
   "source": [
    "####Import depedencies...\n",
    "import numpy as np\n",
    "import pandas as pa\n",
    "import matplotlib.pyplot as plt\n",
    "import seaborn as sns"
   ]
  },
  {
   "cell_type": "code",
   "execution_count": 18,
   "metadata": {},
   "outputs": [
    {
     "name": "stdout",
     "output_type": "stream",
     "text": [
      "train shape  : (79853, 13) \n",
      "test shape  : (34224, 12)\n"
     ]
    }
   ],
   "source": [
    "train = pa.read_csv(\"./train.csv\")\n",
    "test =pa.read_csv(\"./test.csv\")\n",
    "\n",
    "print(f\"train shape  : {train.shape} \\ntest shape  : {test.shape}\")\n"
   ]
  },
  {
   "cell_type": "code",
   "execution_count": 19,
   "metadata": {
    "collapsed": true
   },
   "outputs": [],
   "source": [
    "#### List of columns in train and test\n",
    "train_columns=list(train.columns)\n",
    "test_columns=list(test.columns)"
   ]
  },
  {
   "cell_type": "code",
   "execution_count": 20,
   "metadata": {},
   "outputs": [
    {
     "data": {
      "text/plain": [
       "array([],\n",
       "      dtype='<U32')"
      ]
     },
     "execution_count": 20,
     "metadata": {},
     "output_type": "execute_result"
    }
   ],
   "source": [
    "##### Check any different columns are present\n",
    "np.setdiff1d(test_columns,train_columns)"
   ]
  },
  {
   "cell_type": "code",
   "execution_count": 21,
   "metadata": {},
   "outputs": [
    {
     "name": "stdout",
     "output_type": "stream",
     "text": [
      "['id', 'perc_premium_paid_by_cash_credit', 'age_in_days', 'Income', 'Count_3-6_months_late', 'Count_6-12_months_late', 'Count_more_than_12_months_late', 'application_underwriting_score', 'no_of_premiums_paid', 'sourcing_channel', 'residence_area_type', 'premium', 'renewal']\n"
     ]
    }
   ],
   "source": [
    "print(train_columns)"
   ]
  },
  {
   "cell_type": "code",
   "execution_count": 22,
   "metadata": {
    "collapsed": true
   },
   "outputs": [],
   "source": [
    "#### combining the train and test\n",
    "test.renewal = 'NULL'"
   ]
  },
  {
   "cell_type": "code",
   "execution_count": 24,
   "metadata": {
    "scrolled": true
   },
   "outputs": [],
   "source": [
    "total_data=pa.concat([train,test],axis=0)"
   ]
  },
  {
   "cell_type": "code",
   "execution_count": 25,
   "metadata": {},
   "outputs": [
    {
     "name": "stdout",
     "output_type": "stream",
     "text": [
      "shape of total data : (114077, 13)\n"
     ]
    }
   ],
   "source": [
    "print(f\"shape of total data : {total_data.shape}\")"
   ]
  },
  {
   "cell_type": "code",
   "execution_count": 28,
   "metadata": {},
   "outputs": [
    {
     "data": {
      "text/plain": [
       "1    74855\n",
       "0     4998\n",
       "Name: renewal, dtype: int64"
      ]
     },
     "execution_count": 28,
     "metadata": {},
     "output_type": "execute_result"
    }
   ],
   "source": [
    "##### Check whether the Problem has imbalanced classification or have good percentage of both the positive and negitive classes.\n",
    "\n",
    "train.renewal.value_counts()"
   ]
  },
  {
   "cell_type": "code",
   "execution_count": 34,
   "metadata": {},
   "outputs": [
    {
     "name": "stdout",
     "output_type": "stream",
     "text": [
      "positive_percent : 93.74099908582019\n",
      "negative_percent : 6.259000914179805\n",
      "so accuracy is not the best measure for the performance of the model.\n"
     ]
    }
   ],
   "source": [
    "### percentage of postive and negative in train data.\n",
    "\n",
    "total=74855+4998\n",
    "positive_percent = (74855/total)*100\n",
    "negative_percent = (4998/total)*100\n",
    "print(f\"positive_percent : {positive_percent}\\nnegative_percent : {negative_percent}\\nso accuracy is not the best measure for the performance of the model.\")\n"
   ]
  },
  {
   "cell_type": "code",
   "execution_count": 36,
   "metadata": {},
   "outputs": [
    {
     "name": "stdout",
     "output_type": "stream",
     "text": [
      "id                                    int64\n",
      "perc_premium_paid_by_cash_credit    float64\n",
      "age_in_days                           int64\n",
      "Income                                int64\n",
      "Count_3-6_months_late               float64\n",
      "Count_6-12_months_late              float64\n",
      "Count_more_than_12_months_late      float64\n",
      "application_underwriting_score      float64\n",
      "no_of_premiums_paid                   int64\n",
      "sourcing_channel                     object\n",
      "residence_area_type                  object\n",
      "premium                               int64\n",
      "renewal                               int64\n",
      "dtype: object\n"
     ]
    }
   ],
   "source": [
    "#### check data types\n",
    "\n",
    "print(train.dtypes)"
   ]
  },
  {
   "cell_type": "code",
   "execution_count": 42,
   "metadata": {},
   "outputs": [
    {
     "data": {
      "text/html": [
       "<div>\n",
       "<style>\n",
       "    .dataframe thead tr:only-child th {\n",
       "        text-align: right;\n",
       "    }\n",
       "\n",
       "    .dataframe thead th {\n",
       "        text-align: left;\n",
       "    }\n",
       "\n",
       "    .dataframe tbody tr th {\n",
       "        vertical-align: top;\n",
       "    }\n",
       "</style>\n",
       "<table border=\"1\" class=\"dataframe\">\n",
       "  <thead>\n",
       "    <tr style=\"text-align: right;\">\n",
       "      <th></th>\n",
       "      <th>index</th>\n",
       "      <th>0</th>\n",
       "    </tr>\n",
       "  </thead>\n",
       "  <tbody>\n",
       "    <tr>\n",
       "      <th>0</th>\n",
       "      <td>Count_3-6_months_late</td>\n",
       "      <td>128</td>\n",
       "    </tr>\n",
       "    <tr>\n",
       "      <th>1</th>\n",
       "      <td>Count_6-12_months_late</td>\n",
       "      <td>128</td>\n",
       "    </tr>\n",
       "    <tr>\n",
       "      <th>2</th>\n",
       "      <td>Count_more_than_12_months_late</td>\n",
       "      <td>128</td>\n",
       "    </tr>\n",
       "    <tr>\n",
       "      <th>3</th>\n",
       "      <td>Income</td>\n",
       "      <td>0</td>\n",
       "    </tr>\n",
       "    <tr>\n",
       "      <th>4</th>\n",
       "      <td>age_in_days</td>\n",
       "      <td>0</td>\n",
       "    </tr>\n",
       "    <tr>\n",
       "      <th>5</th>\n",
       "      <td>application_underwriting_score</td>\n",
       "      <td>4297</td>\n",
       "    </tr>\n",
       "    <tr>\n",
       "      <th>6</th>\n",
       "      <td>id</td>\n",
       "      <td>0</td>\n",
       "    </tr>\n",
       "    <tr>\n",
       "      <th>7</th>\n",
       "      <td>no_of_premiums_paid</td>\n",
       "      <td>0</td>\n",
       "    </tr>\n",
       "    <tr>\n",
       "      <th>8</th>\n",
       "      <td>perc_premium_paid_by_cash_credit</td>\n",
       "      <td>0</td>\n",
       "    </tr>\n",
       "    <tr>\n",
       "      <th>9</th>\n",
       "      <td>premium</td>\n",
       "      <td>0</td>\n",
       "    </tr>\n",
       "    <tr>\n",
       "      <th>10</th>\n",
       "      <td>renewal</td>\n",
       "      <td>34224</td>\n",
       "    </tr>\n",
       "    <tr>\n",
       "      <th>11</th>\n",
       "      <td>residence_area_type</td>\n",
       "      <td>0</td>\n",
       "    </tr>\n",
       "    <tr>\n",
       "      <th>12</th>\n",
       "      <td>sourcing_channel</td>\n",
       "      <td>0</td>\n",
       "    </tr>\n",
       "  </tbody>\n",
       "</table>\n",
       "</div>"
      ],
      "text/plain": [
       "                               index      0\n",
       "0              Count_3-6_months_late    128\n",
       "1             Count_6-12_months_late    128\n",
       "2     Count_more_than_12_months_late    128\n",
       "3                             Income      0\n",
       "4                        age_in_days      0\n",
       "5     application_underwriting_score   4297\n",
       "6                                 id      0\n",
       "7                no_of_premiums_paid      0\n",
       "8   perc_premium_paid_by_cash_credit      0\n",
       "9                            premium      0\n",
       "10                           renewal  34224\n",
       "11               residence_area_type      0\n",
       "12                  sourcing_channel      0"
      ]
     },
     "execution_count": 42,
     "metadata": {},
     "output_type": "execute_result"
    }
   ],
   "source": [
    "(total_data.isnull()).sum().reset_index()"
   ]
  },
  {
   "cell_type": "code",
   "execution_count": 55,
   "metadata": {
    "scrolled": true
   },
   "outputs": [],
   "source": [
    "total_data['Count_3-6_months_late']=total_data['Count_3-6_months_late'].fillna(0)"
   ]
  },
  {
   "cell_type": "code",
   "execution_count": 59,
   "metadata": {
    "scrolled": true
   },
   "outputs": [],
   "source": [
    "total_data['Count_6-12_months_late']=total_data['Count_6-12_months_late'].fillna(0)\n",
    "total_data['Count_more_than_12_months_late']=total_data['Count_more_than_12_months_late'].fillna(0)"
   ]
  },
  {
   "cell_type": "code",
   "execution_count": 62,
   "metadata": {},
   "outputs": [
    {
     "data": {
      "text/plain": [
       "Count_3-6_months_late                   0\n",
       "Count_6-12_months_late                  0\n",
       "Count_more_than_12_months_late          0\n",
       "Income                                  0\n",
       "age_in_days                             0\n",
       "application_underwriting_score       4297\n",
       "id                                      0\n",
       "no_of_premiums_paid                     0\n",
       "perc_premium_paid_by_cash_credit        0\n",
       "premium                                 0\n",
       "renewal                             34224\n",
       "residence_area_type                     0\n",
       "sourcing_channel                        0\n",
       "dtype: int64"
      ]
     },
     "execution_count": 62,
     "metadata": {},
     "output_type": "execute_result"
    }
   ],
   "source": [
    "total_data.isnull().sum()"
   ]
  },
  {
   "cell_type": "code",
   "execution_count": 64,
   "metadata": {},
   "outputs": [
    {
     "data": {
      "text/plain": [
       "count    109780.000000\n",
       "mean         99.065675\n",
       "std           0.740743\n",
       "min          91.900000\n",
       "25%          98.810000\n",
       "50%          99.210000\n",
       "75%          99.530000\n",
       "max          99.890000\n",
       "Name: application_underwriting_score, dtype: float64"
      ]
     },
     "execution_count": 64,
     "metadata": {},
     "output_type": "execute_result"
    }
   ],
   "source": [
    "### According to info of column in problem stmt.\n",
    "### Underwriting score for an application will not be under 90. If it is under 90 then that application is not insured.\n",
    "total_data.application_underwriting_score.describe()"
   ]
  },
  {
   "cell_type": "code",
   "execution_count": 69,
   "metadata": {},
   "outputs": [],
   "source": [
    "#### imputing with mean.\n",
    "\n",
    "total_data.application_underwriting_score=total_data.application_underwriting_score.fillna(np.nanmean(total_data.application_underwriting_score))"
   ]
  },
  {
   "cell_type": "code",
   "execution_count": 161,
   "metadata": {},
   "outputs": [
    {
     "data": {
      "text/plain": [
       "Count_3-6_months_late                   0\n",
       "Count_6-12_months_late                  0\n",
       "Count_more_than_12_months_late          0\n",
       "Income                                  0\n",
       "age_in_days                             0\n",
       "application_underwriting_score          0\n",
       "id                                      0\n",
       "no_of_premiums_paid                     0\n",
       "perc_premium_paid_by_cash_credit        0\n",
       "premium                                 0\n",
       "renewal                             34224\n",
       "sourcing_channel                        0\n",
       "rural                                   0\n",
       "dtype: int64"
      ]
     },
     "execution_count": 161,
     "metadata": {},
     "output_type": "execute_result"
    }
   ],
   "source": [
    "total_data.isnull().sum()"
   ]
  },
  {
   "cell_type": "code",
   "execution_count": 87,
   "metadata": {},
   "outputs": [],
   "source": [
    "#### one hot encoding the column \"residence_area_type\"\n",
    "\n",
    "total_data['rural']=pa.get_dummies(total_data.residence_area_type)['Rural']\n",
    "\n",
    "del total_data['residence_area_type']"
   ]
  },
  {
   "cell_type": "code",
   "execution_count": 120,
   "metadata": {
    "scrolled": false
   },
   "outputs": [
    {
     "data": {
      "image/png": "[encoded data removed]",
      "text/plain": [
       "<matplotlib.figure.Figure at 0xc668190>"
      ]
     },
     "metadata": {},
     "output_type": "display_data"
    }
   ],
   "source": [
    "#### Normalization of my variable so that it is approximately Normally distributed.\n",
    "#### Lets use BOX COX transformation technique to normalize.\n",
    "\n",
    "from scipy import stats as stats\n",
    "### first find the maximum lambda value and use it for the normalization.\n",
    "lambda_max = stats.boxcox_normmax(total_data.Income,brack=(-5,5),method=\"mle\")\n",
    "### NOrmalization.\n",
    "income=stats.boxcox(total_data.Income,lambda_max)\n",
    "sns.distplot(income)\n",
    "plt.show()"
   ]
  },
  {
   "cell_type": "code",
   "execution_count": 122,
   "metadata": {
    "collapsed": true
   },
   "outputs": [],
   "source": [
    "total_data.Income=income"
   ]
  },
  {
   "cell_type": "code",
   "execution_count": 132,
   "metadata": {},
   "outputs": [
    {
     "data": {
      "image/png": "[encoded data removed]",
      "text/plain": [
       "<matplotlib.figure.Figure at 0xf8dee70>"
      ]
     },
     "metadata": {},
     "output_type": "display_data"
    }
   ],
   "source": [
    "#### age in days.\n",
    "sns.distplot(total_data.age_in_days)\n",
    "plt.show()"
   ]
  },
  {
   "cell_type": "code",
   "execution_count": 131,
   "metadata": {},
   "outputs": [
    {
     "data": {
      "image/png": "[encoded data removed]",
      "text/plain": [
       "<matplotlib.figure.Figure at 0xfe8ed90>"
      ]
     },
     "metadata": {},
     "output_type": "display_data"
    }
   ],
   "source": [
    "#### Convert days to years. divide by 365. Here im not considering the leap year since it comes once in 4 years.\n",
    "sns.distplot(round(total_data.age_in_days/365).apply(int))\n",
    "plt.show()"
   ]
  },
  {
   "cell_type": "code",
   "execution_count": 133,
   "metadata": {
    "collapsed": true
   },
   "outputs": [],
   "source": [
    "total_data.age_in_days = round(total_data.age_in_days/365).apply(int) "
   ]
  },
  {
   "cell_type": "code",
   "execution_count": 136,
   "metadata": {},
   "outputs": [
    {
     "name": "stdout",
     "output_type": "stream",
     "text": [
      "minumum_age : 21 \n",
      " maximum_age : 103\n"
     ]
    }
   ],
   "source": [
    "#### the distribution of the data will be same but the scale changes.\n",
    "#### Also check any outlier in the Age column like more than 100 years\n",
    "#### Check min and max values.\n",
    "\n",
    "print(f\"minumum_age : {np.min(total_data.age_in_days)} \\n maximum_age : {np.max(total_data.age_in_days)}\")\n",
    "\n",
    "#### Dont worry the insured might have taken loan long ago when he was young and renewaling the policy at ageof 103 also. great!!!"
   ]
  },
  {
   "cell_type": "code",
   "execution_count": 177,
   "metadata": {
    "scrolled": true
   },
   "outputs": [],
   "source": [
    "total_data=pa.concat([total_data,(pa.get_dummies(total_data.sourcing_channel)).iloc[:,0:4]],axis=1)"
   ]
  },
  {
   "cell_type": "code",
   "execution_count": 180,
   "metadata": {
    "collapsed": true
   },
   "outputs": [],
   "source": [
    "required_columns=total_data[['Count_3-6_months_late','Count_6-12_months_late','Count_more_than_12_months_late','Income','age_in_days','application_underwriting_score','no_of_premiums_paid','perc_premium_paid_by_cash_credit','premium','renewal','sourcing_channel','rural','A','B','C','D']]"
   ]
  },
  {
   "cell_type": "code",
   "execution_count": 181,
   "metadata": {
    "scrolled": true
   },
   "outputs": [],
   "source": [
    "train_X=required_columns[~required_columns.renewal.isnull()]"
   ]
  },
  {
   "cell_type": "code",
   "execution_count": 183,
   "metadata": {
    "scrolled": true
   },
   "outputs": [],
   "source": [
    "train_y=required_columns[~required_columns.renewal.isnull()]['renewal']"
   ]
  },
  {
   "cell_type": "code",
   "execution_count": 187,
   "metadata": {},
   "outputs": [],
   "source": [
    "test_X=required_columns[required_columns.renewal.isnull()]\n",
    "del test_X['renewal']"
   ]
  },
  {
   "cell_type": "code",
   "execution_count": null,
   "metadata": {
    "scrolled": true
   },
   "outputs": [],
   "source": [
    "##### splitting train and validation sets"
   ]
  },
  {
   "cell_type": "code",
   "execution_count": null,
   "metadata": {
    "collapsed": true
   },
   "outputs": [],
   "source": []
  }
 ],
 "metadata": {
  "kernelspec": {
   "display_name": "Python 3",
   "language": "python",
   "name": "python3"
  },
  "language_info": {
   "codemirror_mode": {
    "name": "ipython",
    "version": 3
   },
   "file_extension": ".py",
   "mimetype": "text/x-python",
   "name": "python",
   "nbconvert_exporter": "python",
   "pygments_lexer": "ipython3",
   "version": "3.6.3"
  }
 },
 "nbformat": 4,
 "nbformat_minor": 2
}
